{
 "cells": [
  {
   "cell_type": "code",
   "execution_count": 1,
   "id": "6d5e106a",
   "metadata": {},
   "outputs": [],
   "source": [
    "import matplotlib.pyplot as plt\n",
    "import numpy as np\n",
    "import pandas as pd\n",
    "import tensorflow as tf\n",
    "\n",
    "\n",
    "from sklearn.model_selection import train_test_split\n",
    "from sklearn.preprocessing import StandardScaler, OneHotEncoder\n",
    "from sklearn.metrics import ConfusionMatrixDisplay\n",
    "\n",
    "from tensorflow.keras.models import Sequential\n",
    "from tensorflow.keras.layers import Dense, Dropout, BatchNormalization, Flatten, Conv2D, MaxPooling2D,LeakyReLU\n",
    "from tensorflow.keras.regularizers import l1, l2, l1_l2\n",
    "from tensorflow.keras.optimizers import Adam, SGD\n",
    "from keras.callbacks import EarlyStopping\n",
    "from tensorflow.keras.datasets import mnist, cifar10\n",
    "from tensorflow import keras"
   ]
  },
  {
   "cell_type": "code",
   "execution_count": 2,
   "id": "a038d297",
   "metadata": {},
   "outputs": [],
   "source": [
    "data_test = pd.read_csv('data/fashion-mnist_test.csv')\n",
    "df_test = pd.DataFrame(data_test)"
   ]
  },
  {
   "cell_type": "code",
   "execution_count": 3,
   "id": "bff4d87f",
   "metadata": {},
   "outputs": [],
   "source": [
    "data_train = pd.read_csv('data/fashion-mnist_train.csv')\n",
    "df_train = pd.DataFrame(data_test)"
   ]
  },
  {
   "cell_type": "markdown",
   "id": "aee819bf",
   "metadata": {},
   "source": [
    "### Setting X & y"
   ]
  },
  {
   "cell_type": "code",
   "execution_count": 4,
   "id": "ccc3febc",
   "metadata": {},
   "outputs": [],
   "source": [
    "X = df_train.drop('label',axis=1)\n",
    "y = df_train['label']"
   ]
  },
  {
   "cell_type": "code",
   "execution_count": 5,
   "id": "cde7733f",
   "metadata": {},
   "outputs": [
    {
     "data": {
      "text/plain": [
       "10"
      ]
     },
     "execution_count": 5,
     "metadata": {},
     "output_type": "execute_result"
    }
   ],
   "source": [
    "y.value_counts().count()"
   ]
  },
  {
   "cell_type": "markdown",
   "id": "46d9734b",
   "metadata": {},
   "source": [
    "### Normalize Data"
   ]
  },
  {
   "cell_type": "code",
   "execution_count": 6,
   "id": "0071d44b",
   "metadata": {},
   "outputs": [],
   "source": [
    "X = X/255"
   ]
  },
  {
   "cell_type": "markdown",
   "id": "9354c99c",
   "metadata": {},
   "source": [
    "### Split X and y into train and test subsets.\n"
   ]
  },
  {
   "cell_type": "code",
   "execution_count": 7,
   "id": "99964533",
   "metadata": {},
   "outputs": [],
   "source": [
    "X_train, X_val, y_train, y_val = train_test_split(X,y,test_size=.2,random_state=2023)"
   ]
  },
  {
   "cell_type": "code",
   "execution_count": 8,
   "id": "9817d2b5",
   "metadata": {},
   "outputs": [
    {
     "data": {
      "text/plain": [
       "((8000, 784), (8000,))"
      ]
     },
     "execution_count": 8,
     "metadata": {},
     "output_type": "execute_result"
    }
   ],
   "source": [
    "X_train.shape , y_train.shape"
   ]
  },
  {
   "cell_type": "code",
   "execution_count": 9,
   "id": "0c680941",
   "metadata": {},
   "outputs": [],
   "source": [
    "X_train_cnn = X_train.values.reshape(-1,28,28,1)\n",
    "X_val_cnn = X_val.values.reshape(-1,28,28,1)"
   ]
  },
  {
   "cell_type": "code",
   "execution_count": 10,
   "id": "f6b2bbe7",
   "metadata": {},
   "outputs": [
    {
     "data": {
      "text/plain": [
       "(28, 28, 1)"
      ]
     },
     "execution_count": 10,
     "metadata": {},
     "output_type": "execute_result"
    }
   ],
   "source": [
    "X_train_cnn.shape[1:]"
   ]
  },
  {
   "cell_type": "markdown",
   "id": "0c5e69cf",
   "metadata": {},
   "source": [
    "### Create Network"
   ]
  },
  {
   "cell_type": "markdown",
   "id": "9bbd40d7",
   "metadata": {},
   "source": [
    "#### Convolutional NN"
   ]
  },
  {
   "cell_type": "code",
   "execution_count": 12,
   "id": "e127c460",
   "metadata": {},
   "outputs": [
    {
     "name": "stdout",
     "output_type": "stream",
     "text": [
      "Metal device set to: Apple M1 Max\n"
     ]
    },
    {
     "name": "stderr",
     "output_type": "stream",
     "text": [
      "2023-03-17 09:09:40.083271: I tensorflow/core/common_runtime/pluggable_device/pluggable_device_factory.cc:305] Could not identify NUMA node of platform GPU ID 0, defaulting to 0. Your kernel may not have been built with NUMA support.\n",
      "2023-03-17 09:09:40.083386: I tensorflow/core/common_runtime/pluggable_device/pluggable_device_factory.cc:271] Created TensorFlow device (/job:localhost/replica:0/task:0/device:GPU:0 with 0 MB memory) -> physical PluggableDevice (device: 0, name: METAL, pci bus id: <undefined>)\n"
     ]
    }
   ],
   "source": [
    "model = Sequential([\n",
    "    Conv2D(64,(3,3), activation=LeakyReLU(alpha=0.05), input_shape = (X_train_cnn.shape[1:])),\n",
    "    MaxPooling2D(2),\n",
    "    Flatten(),\n",
    "    Dense(128, activation='relu'),\n",
    "    Dropout(0.6),\n",
    "    Dense(10,activation = 'softmax') # there are 10 unique values in y\n",
    "])  "
   ]
  },
  {
   "cell_type": "markdown",
   "id": "2a9b6649",
   "metadata": {},
   "source": [
    "### Train your network"
   ]
  },
  {
   "cell_type": "code",
   "execution_count": 13,
   "id": "946a2821",
   "metadata": {},
   "outputs": [],
   "source": [
    "model.compile(\n",
    "    optimizer = 'adam',\n",
    "    loss = 'sparse_categorical_crossentropy', \n",
    "    metrics = ['accuracy'],\n",
    ")"
   ]
  },
  {
   "cell_type": "code",
   "execution_count": 14,
   "id": "4c313c84",
   "metadata": {},
   "outputs": [],
   "source": [
    "early_stopping = EarlyStopping(monitor='val_loss', patience=6)"
   ]
  },
  {
   "cell_type": "code",
   "execution_count": 15,
   "id": "e79a9b84",
   "metadata": {},
   "outputs": [
    {
     "name": "stdout",
     "output_type": "stream",
     "text": [
      "Epoch 1/15\n"
     ]
    },
    {
     "name": "stderr",
     "output_type": "stream",
     "text": [
      "2023-03-17 09:09:40.230236: W tensorflow/core/platform/profile_utils/cpu_utils.cc:128] Failed to get CPU frequency: 0 Hz\n",
      "2023-03-17 09:09:40.347125: I tensorflow/core/grappler/optimizers/custom_graph_optimizer_registry.cc:113] Plugin optimizer for device_type GPU is enabled.\n"
     ]
    },
    {
     "name": "stdout",
     "output_type": "stream",
     "text": [
      "246/250 [============================>.] - ETA: 0s - loss: 0.8225 - accuracy: 0.7176"
     ]
    },
    {
     "name": "stderr",
     "output_type": "stream",
     "text": [
      "2023-03-17 09:09:42.265597: I tensorflow/core/grappler/optimizers/custom_graph_optimizer_registry.cc:113] Plugin optimizer for device_type GPU is enabled.\n"
     ]
    },
    {
     "name": "stdout",
     "output_type": "stream",
     "text": [
      "250/250 [==============================] - 2s 8ms/step - loss: 0.8194 - accuracy: 0.7180 - val_loss: 0.5070 - val_accuracy: 0.8175\n",
      "Epoch 2/15\n",
      "250/250 [==============================] - 2s 8ms/step - loss: 0.4906 - accuracy: 0.8255 - val_loss: 0.4256 - val_accuracy: 0.8595\n",
      "Epoch 3/15\n",
      "250/250 [==============================] - 2s 8ms/step - loss: 0.3989 - accuracy: 0.8595 - val_loss: 0.4024 - val_accuracy: 0.8615\n",
      "Epoch 4/15\n",
      "250/250 [==============================] - 2s 8ms/step - loss: 0.3606 - accuracy: 0.8728 - val_loss: 0.3943 - val_accuracy: 0.8630\n",
      "Epoch 5/15\n",
      "250/250 [==============================] - 2s 8ms/step - loss: 0.3220 - accuracy: 0.8873 - val_loss: 0.3466 - val_accuracy: 0.8835\n",
      "Epoch 6/15\n",
      "250/250 [==============================] - 2s 8ms/step - loss: 0.2906 - accuracy: 0.8933 - val_loss: 0.3516 - val_accuracy: 0.8790\n",
      "Epoch 7/15\n",
      "250/250 [==============================] - 2s 8ms/step - loss: 0.2706 - accuracy: 0.9033 - val_loss: 0.3525 - val_accuracy: 0.8880\n",
      "Epoch 8/15\n",
      "250/250 [==============================] - 2s 8ms/step - loss: 0.2463 - accuracy: 0.9134 - val_loss: 0.3349 - val_accuracy: 0.8920\n",
      "Epoch 9/15\n",
      "250/250 [==============================] - 2s 8ms/step - loss: 0.2392 - accuracy: 0.9143 - val_loss: 0.3380 - val_accuracy: 0.8915\n",
      "Epoch 10/15\n",
      "250/250 [==============================] - 2s 8ms/step - loss: 0.2130 - accuracy: 0.9226 - val_loss: 0.3460 - val_accuracy: 0.8915\n",
      "Epoch 11/15\n",
      "250/250 [==============================] - 2s 8ms/step - loss: 0.2092 - accuracy: 0.9230 - val_loss: 0.3479 - val_accuracy: 0.8850\n",
      "Epoch 12/15\n",
      "250/250 [==============================] - 2s 8ms/step - loss: 0.1789 - accuracy: 0.9353 - val_loss: 0.3540 - val_accuracy: 0.8895\n",
      "Epoch 13/15\n",
      "250/250 [==============================] - 2s 8ms/step - loss: 0.1740 - accuracy: 0.9359 - val_loss: 0.3565 - val_accuracy: 0.8920\n",
      "Epoch 14/15\n",
      "250/250 [==============================] - 2s 8ms/step - loss: 0.1680 - accuracy: 0.9391 - val_loss: 0.3436 - val_accuracy: 0.9020\n"
     ]
    }
   ],
   "source": [
    "history = model.fit(\n",
    "    X_train_cnn,\n",
    "    y_train,\n",
    "    validation_data=(X_val_cnn, y_val),\n",
    "    batch_size = 32,\n",
    "    epochs = 15,\n",
    "    verbose= 1,\n",
    "    callbacks=[early_stopping]\n",
    ")"
   ]
  },
  {
   "cell_type": "code",
   "execution_count": 89,
   "id": "476f0c44",
   "metadata": {},
   "outputs": [
    {
     "data": {
      "image/png": "[encoded data removed]",
      "text/plain": [
       "<Figure size 640x480 with 1 Axes>"
      ]
     },
     "metadata": {},
     "output_type": "display_data"
    }
   ],
   "source": [
    "plt.plot(history.epoch, history.history['loss'], c='r',label = 'Training Loss');    \n",
    "plt.plot(history.epoch, history.history['val_loss'], c='pink', label = 'Validation Loss');\n",
    "plt.yscale('linear')\n",
    "\n",
    "plt.title('Training & Validation Loss')\n",
    "plt.xlabel('Epochs')\n",
    "plt.ylabel('Loss')\n",
    "plt.legend();"
   ]
  },
  {
   "cell_type": "markdown",
   "id": "334771d9",
   "metadata": {},
   "source": [
    "### Running Model on All Data"
   ]
  },
  {
   "cell_type": "code",
   "execution_count": 17,
   "id": "96a52ebf",
   "metadata": {},
   "outputs": [],
   "source": [
    "X_cnn = X.values.reshape(-1,28,28,1)\n"
   ]
  },
  {
   "cell_type": "code",
   "execution_count": 18,
   "id": "7c63189f",
   "metadata": {},
   "outputs": [],
   "source": [
    "model_all = Sequential([\n",
    "    Conv2D(64,(3,3), activation=LeakyReLU(alpha=0.05), input_shape = (X_cnn.shape[1:])),\n",
    "    MaxPooling2D(2),\n",
    "    Flatten(),\n",
    "    Dense(128, activation='relu'),\n",
    "    Dropout(0.6),\n",
    "    Dense(10,activation = 'softmax') # there are 10 unique values in y\n",
    "])  "
   ]
  },
  {
   "cell_type": "code",
   "execution_count": 19,
   "id": "fa5bae59",
   "metadata": {},
   "outputs": [],
   "source": [
    "model_all.compile(\n",
    "    optimizer = 'adam',\n",
    "    loss = 'sparse_categorical_crossentropy', \n",
    "    metrics = ['accuracy'],\n",
    ")"
   ]
  },
  {
   "cell_type": "code",
   "execution_count": 20,
   "id": "344bfad6",
   "metadata": {
    "scrolled": true
   },
   "outputs": [
    {
     "name": "stdout",
     "output_type": "stream",
     "text": [
      "Epoch 1/15\n",
      "  5/313 [..............................] - ETA: 4s - loss: 2.2152 - accuracy: 0.1750  "
     ]
    },
    {
     "name": "stderr",
     "output_type": "stream",
     "text": [
      "2023-03-17 09:11:14.094806: I tensorflow/core/grappler/optimizers/custom_graph_optimizer_registry.cc:113] Plugin optimizer for device_type GPU is enabled.\n"
     ]
    },
    {
     "name": "stdout",
     "output_type": "stream",
     "text": [
      "313/313 [==============================] - ETA: 0s - loss: 0.8011 - accuracy: 0.7246WARNING:tensorflow:Early stopping conditioned on metric `val_loss` which is not available. Available metrics are: loss,accuracy\n",
      "313/313 [==============================] - 3s 8ms/step - loss: 0.8011 - accuracy: 0.7246\n",
      "Epoch 2/15\n",
      "309/313 [============================>.] - ETA: 0s - loss: 0.5010 - accuracy: 0.8238WARNING:tensorflow:Early stopping conditioned on metric `val_loss` which is not available. Available metrics are: loss,accuracy\n",
      "313/313 [==============================] - 2s 8ms/step - loss: 0.5012 - accuracy: 0.8235\n",
      "Epoch 3/15\n",
      "313/313 [==============================] - ETA: 0s - loss: 0.4062 - accuracy: 0.8556WARNING:tensorflow:Early stopping conditioned on metric `val_loss` which is not available. Available metrics are: loss,accuracy\n",
      "313/313 [==============================] - 2s 8ms/step - loss: 0.4062 - accuracy: 0.8556\n",
      "Epoch 4/15\n",
      "308/313 [============================>.] - ETA: 0s - loss: 0.3601 - accuracy: 0.8733WARNING:tensorflow:Early stopping conditioned on metric `val_loss` which is not available. Available metrics are: loss,accuracy\n",
      "313/313 [==============================] - 2s 8ms/step - loss: 0.3601 - accuracy: 0.8731\n",
      "Epoch 5/15\n",
      "307/313 [============================>.] - ETA: 0s - loss: 0.3309 - accuracy: 0.8856WARNING:tensorflow:Early stopping conditioned on metric `val_loss` which is not available. Available metrics are: loss,accuracy\n",
      "313/313 [==============================] - 2s 8ms/step - loss: 0.3305 - accuracy: 0.8858\n",
      "Epoch 6/15\n",
      "309/313 [============================>.] - ETA: 0s - loss: 0.2893 - accuracy: 0.8958WARNING:tensorflow:Early stopping conditioned on metric `val_loss` which is not available. Available metrics are: loss,accuracy\n",
      "313/313 [==============================] - 2s 8ms/step - loss: 0.2893 - accuracy: 0.8959\n",
      "Epoch 7/15\n",
      "307/313 [============================>.] - ETA: 0s - loss: 0.2621 - accuracy: 0.9040WARNING:tensorflow:Early stopping conditioned on metric `val_loss` which is not available. Available metrics are: loss,accuracy\n",
      "313/313 [==============================] - 2s 8ms/step - loss: 0.2629 - accuracy: 0.9031\n",
      "Epoch 8/15\n",
      "308/313 [============================>.] - ETA: 0s - loss: 0.2437 - accuracy: 0.9147WARNING:tensorflow:Early stopping conditioned on metric `val_loss` which is not available. Available metrics are: loss,accuracy\n",
      "313/313 [==============================] - 2s 8ms/step - loss: 0.2444 - accuracy: 0.9148\n",
      "Epoch 9/15\n",
      "307/313 [============================>.] - ETA: 0s - loss: 0.2294 - accuracy: 0.9161WARNING:tensorflow:Early stopping conditioned on metric `val_loss` which is not available. Available metrics are: loss,accuracy\n",
      "313/313 [==============================] - 2s 8ms/step - loss: 0.2286 - accuracy: 0.9163\n",
      "Epoch 10/15\n",
      "309/313 [============================>.] - ETA: 0s - loss: 0.2100 - accuracy: 0.9246WARNING:tensorflow:Early stopping conditioned on metric `val_loss` which is not available. Available metrics are: loss,accuracy\n",
      "313/313 [==============================] - 2s 8ms/step - loss: 0.2099 - accuracy: 0.9247\n",
      "Epoch 11/15\n",
      "308/313 [============================>.] - ETA: 0s - loss: 0.1943 - accuracy: 0.9300WARNING:tensorflow:Early stopping conditioned on metric `val_loss` which is not available. Available metrics are: loss,accuracy\n",
      "313/313 [==============================] - 2s 8ms/step - loss: 0.1939 - accuracy: 0.9298\n",
      "Epoch 12/15\n",
      "308/313 [============================>.] - ETA: 0s - loss: 0.1876 - accuracy: 0.9335WARNING:tensorflow:Early stopping conditioned on metric `val_loss` which is not available. Available metrics are: loss,accuracy\n",
      "313/313 [==============================] - 2s 8ms/step - loss: 0.1891 - accuracy: 0.9330\n",
      "Epoch 13/15\n",
      "309/313 [============================>.] - ETA: 0s - loss: 0.1680 - accuracy: 0.9378WARNING:tensorflow:Early stopping conditioned on metric `val_loss` which is not available. Available metrics are: loss,accuracy\n",
      "313/313 [==============================] - 2s 8ms/step - loss: 0.1678 - accuracy: 0.9380\n",
      "Epoch 14/15\n",
      "309/313 [============================>.] - ETA: 0s - loss: 0.1524 - accuracy: 0.9444WARNING:tensorflow:Early stopping conditioned on metric `val_loss` which is not available. Available metrics are: loss,accuracy\n",
      "313/313 [==============================] - 2s 8ms/step - loss: 0.1543 - accuracy: 0.9438\n",
      "Epoch 15/15\n",
      "309/313 [============================>.] - ETA: 0s - loss: 0.1494 - accuracy: 0.9447WARNING:tensorflow:Early stopping conditioned on metric `val_loss` which is not available. Available metrics are: loss,accuracy\n",
      "313/313 [==============================] - 2s 8ms/step - loss: 0.1504 - accuracy: 0.9443\n"
     ]
    }
   ],
   "source": [
    "history_all = model_all.fit(\n",
    "    X_cnn,\n",
    "    y,\n",
    "    batch_size = 32,\n",
    "    epochs = 15,\n",
    "    verbose= 1,\n",
    "    callbacks=[early_stopping]\n",
    ")"
   ]
  },
  {
   "cell_type": "code",
   "execution_count": null,
   "id": "e5c598d6",
   "metadata": {},
   "outputs": [],
   "source": []
  },
  {
   "cell_type": "markdown",
   "id": "96ccd073",
   "metadata": {},
   "source": [
    "#### Making Predictions"
   ]
  },
  {
   "cell_type": "code",
   "execution_count": 39,
   "id": "4d71a750",
   "metadata": {},
   "outputs": [],
   "source": [
    "X_test = df_test.drop('label',axis =1)"
   ]
  },
  {
   "cell_type": "code",
   "execution_count": 40,
   "id": "fa01f76f",
   "metadata": {},
   "outputs": [],
   "source": [
    "X_test_cnn = X_test.values.reshape(-1,28,28,1)"
   ]
  },
  {
   "cell_type": "code",
   "execution_count": 41,
   "id": "2eb89552",
   "metadata": {},
   "outputs": [
    {
     "name": "stdout",
     "output_type": "stream",
     "text": [
      " 65/313 [=====>........................] - ETA: 0s"
     ]
    },
    {
     "name": "stderr",
     "output_type": "stream",
     "text": [
      "2023-03-17 09:22:26.918509: I tensorflow/core/grappler/optimizers/custom_graph_optimizer_registry.cc:113] Plugin optimizer for device_type GPU is enabled.\n"
     ]
    },
    {
     "name": "stdout",
     "output_type": "stream",
     "text": [
      "313/313 [==============================] - 1s 2ms/step\n"
     ]
    }
   ],
   "source": [
    "predictions = model_all.predict(X_test_cnn)"
   ]
  },
  {
   "cell_type": "code",
   "execution_count": 42,
   "id": "6495a71e",
   "metadata": {},
   "outputs": [],
   "source": [
    "X_test['Predictions'] = np.argmax(predictions,axis=1)"
   ]
  },
  {
   "cell_type": "code",
   "execution_count": 43,
   "id": "ce6a2502",
   "metadata": {},
   "outputs": [],
   "source": [
    "X_test.to_csv('data/submission.csv',index= False)"
   ]
  },
  {
   "cell_type": "markdown",
   "id": "b697d5b1",
   "metadata": {},
   "source": [
    "### Visualizations"
   ]
  },
  {
   "cell_type": "code",
   "execution_count": 51,
   "id": "b07df2be",
   "metadata": {},
   "outputs": [
    {
     "name": "stdout",
     "output_type": "stream",
     "text": [
      "63/63 [==============================] - 0s 3ms/step\n"
     ]
    },
    {
     "data": {
      "text/plain": [
       "(2000,)"
      ]
     },
     "execution_count": 51,
     "metadata": {},
     "output_type": "execute_result"
    }
   ],
   "source": [
    "val_preds = np.argmax(model.predict(X_val_cnn),axis=1)\n",
    "val_preds.shape"
   ]
  },
  {
   "cell_type": "code",
   "execution_count": 52,
   "id": "50739f3d",
   "metadata": {},
   "outputs": [
    {
     "data": {
      "text/plain": [
       "(2000,)"
      ]
     },
     "execution_count": 52,
     "metadata": {},
     "output_type": "execute_result"
    }
   ],
   "source": [
    "val_preds.shape"
   ]
  },
  {
   "cell_type": "code",
   "execution_count": 57,
   "id": "0fdb673b",
   "metadata": {},
   "outputs": [
    {
     "data": {
      "text/plain": [
       "array([2, 0, 2, ..., 8, 0, 4])"
      ]
     },
     "execution_count": 57,
     "metadata": {},
     "output_type": "execute_result"
    }
   ],
   "source": [
    "val_preds"
   ]
  },
  {
   "cell_type": "code",
   "execution_count": 61,
   "id": "b5eba1ed",
   "metadata": {},
   "outputs": [
    {
     "data": {
      "text/plain": [
       "(2000,)"
      ]
     },
     "execution_count": 61,
     "metadata": {},
     "output_type": "execute_result"
    }
   ],
   "source": [
    "val_preds.shape"
   ]
  },
  {
   "cell_type": "code",
   "execution_count": 65,
   "id": "d2de93da",
   "metadata": {},
   "outputs": [
    {
     "data": {
      "text/plain": [
       "(2000, 28, 28, 1)"
      ]
     },
     "execution_count": 65,
     "metadata": {},
     "output_type": "execute_result"
    }
   ],
   "source": [
    "X_val_cnn.shape"
   ]
  },
  {
   "cell_type": "code",
   "execution_count": 87,
   "id": "e9ed13b8",
   "metadata": {},
   "outputs": [
    {
     "data": {
      "image/png": "[encoded data removed]",
      "text/plain": [
       "<Figure size 640x480 with 2 Axes>"
      ]
     },
     "metadata": {},
     "output_type": "display_data"
    }
   ],
   "source": [
    "ConfusionMatrixDisplay.from_predictions(y_val, val_preds, cmap = 'Reds');\n",
    "plt.title(\"Confusion Matrix\")\n",
    "plt.savefig('images/conf_matrix.png')"
   ]
  },
  {
   "cell_type": "code",
   "execution_count": 101,
   "id": "b4a2693d",
   "metadata": {},
   "outputs": [
    {
     "ename": "AttributeError",
     "evalue": "'Series' object has no attribute 'label'",
     "output_type": "error",
     "traceback": [
      "\u001b[0;31m---------------------------------------------------------------------------\u001b[0m",
      "\u001b[0;31mAttributeError\u001b[0m                            Traceback (most recent call last)",
      "Cell \u001b[0;32mIn[101], line 1\u001b[0m\n\u001b[0;32m----> 1\u001b[0m \u001b[43my_train\u001b[49m\u001b[38;5;241;43m.\u001b[39;49m\u001b[43mlabel\u001b[49m[\u001b[38;5;241m12\u001b[39m]\n",
      "File \u001b[0;32m~/miniconda3/envs/tf/lib/python3.9/site-packages/pandas/core/generic.py:5902\u001b[0m, in \u001b[0;36mNDFrame.__getattr__\u001b[0;34m(self, name)\u001b[0m\n\u001b[1;32m   5895\u001b[0m \u001b[38;5;28;01mif\u001b[39;00m (\n\u001b[1;32m   5896\u001b[0m     name \u001b[38;5;129;01mnot\u001b[39;00m \u001b[38;5;129;01min\u001b[39;00m \u001b[38;5;28mself\u001b[39m\u001b[38;5;241m.\u001b[39m_internal_names_set\n\u001b[1;32m   5897\u001b[0m     \u001b[38;5;129;01mand\u001b[39;00m name \u001b[38;5;129;01mnot\u001b[39;00m \u001b[38;5;129;01min\u001b[39;00m \u001b[38;5;28mself\u001b[39m\u001b[38;5;241m.\u001b[39m_metadata\n\u001b[1;32m   5898\u001b[0m     \u001b[38;5;129;01mand\u001b[39;00m name \u001b[38;5;129;01mnot\u001b[39;00m \u001b[38;5;129;01min\u001b[39;00m \u001b[38;5;28mself\u001b[39m\u001b[38;5;241m.\u001b[39m_accessors\n\u001b[1;32m   5899\u001b[0m     \u001b[38;5;129;01mand\u001b[39;00m \u001b[38;5;28mself\u001b[39m\u001b[38;5;241m.\u001b[39m_info_axis\u001b[38;5;241m.\u001b[39m_can_hold_identifiers_and_holds_name(name)\n\u001b[1;32m   5900\u001b[0m ):\n\u001b[1;32m   5901\u001b[0m     \u001b[38;5;28;01mreturn\u001b[39;00m \u001b[38;5;28mself\u001b[39m[name]\n\u001b[0;32m-> 5902\u001b[0m \u001b[38;5;28;01mreturn\u001b[39;00m \u001b[38;5;28;43mobject\u001b[39;49m\u001b[38;5;241;43m.\u001b[39;49m\u001b[38;5;21;43m__getattribute__\u001b[39;49m\u001b[43m(\u001b[49m\u001b[38;5;28;43mself\u001b[39;49m\u001b[43m,\u001b[49m\u001b[43m \u001b[49m\u001b[43mname\u001b[49m\u001b[43m)\u001b[49m\n",
      "\u001b[0;31mAttributeError\u001b[0m: 'Series' object has no attribute 'label'"
     ]
    }
   ],
   "source": [
    "y_train.label[12]"
   ]
  },
  {
   "cell_type": "code",
   "execution_count": 94,
   "id": "9d96ba3d",
   "metadata": {},
   "outputs": [
    {
     "data": {
      "text/plain": [
       "<matplotlib.image.AxesImage at 0x30b41f730>"
      ]
     },
     "execution_count": 94,
     "metadata": {},
     "output_type": "execute_result"
    },
    {
     "data": {
      "image/png": "[encoded data removed]",
      "text/plain": [
       "<Figure size 640x480 with 1 Axes>"
      ]
     },
     "metadata": {},
     "output_type": "display_data"
    }
   ],
   "source": [
    "plt.imshow(X_train_cnn[12],cmap = 'binary')\n",
    "plt.title('Blouse')"
   ]
  },
  {
   "cell_type": "code",
   "execution_count": 112,
   "id": "88b8b8bf",
   "metadata": {},
   "outputs": [
    {
     "data": {
      "text/html": [
       "<div>\n",
       "<style scoped>\n",
       "    .dataframe tbody tr th:only-of-type {\n",
       "        vertical-align: middle;\n",
       "    }\n",
       "\n",
       "    .dataframe tbody tr th {\n",
       "        vertical-align: top;\n",
       "    }\n",
       "\n",
       "    .dataframe thead th {\n",
       "        text-align: right;\n",
       "    }\n",
       "</style>\n",
       "<table border=\"1\" class=\"dataframe\">\n",
       "  <thead>\n",
       "    <tr style=\"text-align: right;\">\n",
       "      <th></th>\n",
       "      <th>label</th>\n",
       "    </tr>\n",
       "  </thead>\n",
       "  <tbody>\n",
       "    <tr>\n",
       "      <th>0</th>\n",
       "      <td>4</td>\n",
       "    </tr>\n",
       "    <tr>\n",
       "      <th>1</th>\n",
       "      <td>0</td>\n",
       "    </tr>\n",
       "    <tr>\n",
       "      <th>2</th>\n",
       "      <td>2</td>\n",
       "    </tr>\n",
       "    <tr>\n",
       "      <th>3</th>\n",
       "      <td>5</td>\n",
       "    </tr>\n",
       "    <tr>\n",
       "      <th>4</th>\n",
       "      <td>4</td>\n",
       "    </tr>\n",
       "    <tr>\n",
       "      <th>...</th>\n",
       "      <td>...</td>\n",
       "    </tr>\n",
       "    <tr>\n",
       "      <th>1995</th>\n",
       "      <td>4</td>\n",
       "    </tr>\n",
       "    <tr>\n",
       "      <th>1996</th>\n",
       "      <td>6</td>\n",
       "    </tr>\n",
       "    <tr>\n",
       "      <th>1997</th>\n",
       "      <td>8</td>\n",
       "    </tr>\n",
       "    <tr>\n",
       "      <th>1998</th>\n",
       "      <td>0</td>\n",
       "    </tr>\n",
       "    <tr>\n",
       "      <th>1999</th>\n",
       "      <td>4</td>\n",
       "    </tr>\n",
       "  </tbody>\n",
       "</table>\n",
       "<p>2000 rows × 1 columns</p>\n",
       "</div>"
      ],
      "text/plain": [
       "      label\n",
       "0         4\n",
       "1         0\n",
       "2         2\n",
       "3         5\n",
       "4         4\n",
       "...     ...\n",
       "1995      4\n",
       "1996      6\n",
       "1997      8\n",
       "1998      0\n",
       "1999      4\n",
       "\n",
       "[2000 rows x 1 columns]"
      ]
     },
     "execution_count": 112,
     "metadata": {},
     "output_type": "execute_result"
    }
   ],
   "source": [
    "y_val.reset_index().drop('index',axis=1)"
   ]
  },
  {
   "cell_type": "code",
   "execution_count": 121,
   "id": "89df9762",
   "metadata": {},
   "outputs": [],
   "source": [
    "y_val = np.array(y_val)"
   ]
  },
  {
   "cell_type": "code",
   "execution_count": 124,
   "id": "bf769101",
   "metadata": {},
   "outputs": [
    {
     "data": {
      "image/png": "[encoded data removed]",
      "text/plain": [
       "<Figure size 640x480 with 1 Axes>"
      ]
     },
     "metadata": {},
     "output_type": "display_data"
    },
    {
     "name": "stdout",
     "output_type": "stream",
     "text": [
      "We thought = 2, but really 4\n"
     ]
    },
    {
     "data": {
      "image/png": "[encoded data removed]",
      "text/plain": [
       "<Figure size 640x480 with 1 Axes>"
      ]
     },
     "metadata": {},
     "output_type": "display_data"
    },
    {
     "name": "stdout",
     "output_type": "stream",
     "text": [
      "We thought = 3, but really 4\n"
     ]
    },
    {
     "data": {
      "image/png": "[encoded data removed]",
      "text/plain": [
       "<Figure size 640x480 with 1 Axes>"
      ]
     },
     "metadata": {},
     "output_type": "display_data"
    },
    {
     "name": "stdout",
     "output_type": "stream",
     "text": [
      "We thought = 3, but really 0\n"
     ]
    },
    {
     "data": {
      "image/png": "[encoded data removed]",
      "text/plain": [
       "<Figure size 640x480 with 1 Axes>"
      ]
     },
     "metadata": {},
     "output_type": "display_data"
    },
    {
     "name": "stdout",
     "output_type": "stream",
     "text": [
      "We thought = 4, but really 6\n"
     ]
    },
    {
     "data": {
      "image/png": "[encoded data removed]",
      "text/plain": [
       "<Figure size 640x480 with 1 Axes>"
      ]
     },
     "metadata": {},
     "output_type": "display_data"
    },
    {
     "name": "stdout",
     "output_type": "stream",
     "text": [
      "We thought = 3, but really 0\n"
     ]
    }
   ],
   "source": [
    "wrong_ix = np.where(val_preds != y_val)[0]\n",
    "for i in wrong_ix[:5]:\n",
    "    plt.clf()\n",
    "    plt.imshow(X_val_cnn[i], cmap='binary')\n",
    "    plt.show()\n",
    "    pred = val_preds[i]\n",
    "    truth = y_val[i]\n",
    "    print(f'We thought = {pred}, but really {truth}')"
   ]
  },
  {
   "cell_type": "code",
   "execution_count": null,
   "id": "55f5f366",
   "metadata": {},
   "outputs": [],
   "source": []
  },
  {
   "cell_type": "code",
   "execution_count": null,
   "id": "3957e56e",
   "metadata": {},
   "outputs": [],
   "source": []
  }
 ],
 "metadata": {
  "kernelspec": {
   "display_name": "Python 3 (ipykernel)",
   "language": "python",
   "name": "python3"
  },
  "language_info": {
   "codemirror_mode": {
    "name": "ipython",
    "version": 3
   },
   "file_extension": ".py",
   "mimetype": "text/x-python",
   "name": "python",
   "nbconvert_exporter": "python",
   "pygments_lexer": "ipython3",
   "version": "3.9.16"
  }
 },
 "nbformat": 4,
 "nbformat_minor": 5
}
